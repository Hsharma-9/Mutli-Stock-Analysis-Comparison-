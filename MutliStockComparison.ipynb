{
 "cells": [
  {
   "cell_type": "code",
   "execution_count": null,
   "id": "3da20635-61f4-46dc-89dc-830a026381a4",
   "metadata": {},
   "outputs": [],
   "source": [
    "import pandas as pd\n",
    "import pandas_datareader.data as web\n",
    "import datetime\n",
    "import matplotlib.pyplot as plt\n",
    "import numpy as np\n",
    "import yfinance as yf\n",
    "%matplotlib inline"
   ]
  },
  {
   "cell_type": "code",
   "execution_count": null,
   "id": "591c0584-54ae-47b7-8aaa-a99a4151e2dd",
   "metadata": {},
   "outputs": [],
   "source": [
    "start = datetime.datetime(2020,1,1)\n",
    "end = datetime.datetime(2024,1,1)"
   ]
  },
  {
   "cell_type": "code",
   "execution_count": null,
   "id": "201c03c1-2af4-4afb-98f8-dd1b4de0e2cf",
   "metadata": {},
   "outputs": [],
   "source": [
    "tesla = yf.download('TSLA', start=start, end=end)\n",
    "ford = yf.download('F', start=start, end=end)\n",
    "gm = yf.download('GM', start=start, end=end)"
   ]
  },
  {
   "cell_type": "code",
   "execution_count": null,
   "id": "3238c336-2399-4b93-a9be-04cdce3c45f1",
   "metadata": {},
   "outputs": [],
   "source": [
    "tesla.to_csv('Tesla_Stock.csv')\n",
    "ford.to_csv('Ford_Stock.csv')\n",
    "gm.to_csv('GMC_Stock.csv')"
   ]
  },
  {
   "cell_type": "markdown",
   "id": "0b09b13d-37d0-4ff7-83b4-38c530abf8aa",
   "metadata": {},
   "source": [
    "## Analyzing opening prices of the companies"
   ]
  },
  {
   "cell_type": "code",
   "execution_count": null,
   "id": "1290f888-37de-4b19-b054-7fb43ed424aa",
   "metadata": {},
   "outputs": [],
   "source": [
    "tesla.head()\n",
    "tesla['Open'].plot(label =  'Tesla Open price',figsize = (15,7))\n",
    "ford['Open'].plot(label =  'Ford Open price')\n",
    "gm['Open'].plot(label =  'GM Open price')\n",
    "plt.ylabel('Stock Price')\n",
    "plt.xlabel('Year')\n",
    "plt.title('Stock Prices of Tesla, GM, and Ford')\n",
    "plt.legend()\n"
   ]
  },
  {
   "cell_type": "code",
   "execution_count": null,
   "id": "670e193e-bc78-4de8-8bc0-bf97a2a39a68",
   "metadata": {
    "scrolled": true
   },
   "outputs": [],
   "source": [
    "tesla['Volume'].plot(label = 'Tesla',figsize = (15,7))\n",
    "gm['Volume'].plot(label = 'GM')\n",
    "ford['Volume'].plot(label = 'Ford')\n",
    "plt.ylabel('Volume Traded')\n",
    "plt.legend()\n",
    "# how much has each companies stock \n",
    "# been traded and its popularity for investments"
   ]
  },
  {
   "cell_type": "code",
   "execution_count": null,
   "id": "7324617a-3fb9-44a7-88e6-668c26bd9aa1",
   "metadata": {},
   "outputs": [],
   "source": [
    "tesla.iloc[[tesla['Volume'].argmax()]]"
   ]
  },
  {
   "cell_type": "code",
   "execution_count": null,
   "id": "825692e2-e5d5-48d4-a642-bccf2b22dcf4",
   "metadata": {},
   "outputs": [],
   "source": [
    "tesla.iloc[300:400]['Volume'].plot(figsize=(10,7))"
   ]
  },
  {
   "cell_type": "code",
   "execution_count": null,
   "id": "b2dcb4b5-c7f4-4ba6-87e4-4df48c5d60ab",
   "metadata": {},
   "outputs": [],
   "source": [
    "tesla['Total Traded'] = tesla['Open'] * tesla['Volume']\n",
    "gm['Total Traded'] = gm['Open'] * gm['Volume']\n",
    "ford['Total Traded'] = ford['Open'] * ford['Volume']"
   ]
  },
  {
   "cell_type": "code",
   "execution_count": null,
   "id": "3585b778-5b79-451d-9e3a-0cf70f6bd5ae",
   "metadata": {},
   "outputs": [],
   "source": [
    "tesla.head()"
   ]
  },
  {
   "cell_type": "code",
   "execution_count": null,
   "id": "1942e98b-3a32-49fa-93c2-b1ee690598cc",
   "metadata": {},
   "outputs": [],
   "source": [
    "gm.head()"
   ]
  },
  {
   "cell_type": "code",
   "execution_count": null,
   "id": "2e65842c-ae06-4ac3-a8dc-5d81ecc92053",
   "metadata": {},
   "outputs": [],
   "source": [
    "ford.head()"
   ]
  },
  {
   "cell_type": "code",
   "execution_count": null,
   "id": "e7a98427-a114-4ab1-9b04-6b776525d353",
   "metadata": {},
   "outputs": [],
   "source": [
    "tesla['Total Traded'].plot(label='Tesla', figsize = (15,7))\n",
    "gm['Total Traded'].plot(label='GM')\n",
    "ford['Total Traded'].plot(label='Ford')\n",
    "plt.legend()\n",
    "plt.ylabel('Total Traded')"
   ]
  },
  {
   "cell_type": "code",
   "execution_count": null,
   "id": "d8552d17-e702-41d6-b9ac-2cbf46041d33",
   "metadata": {},
   "outputs": [],
   "source": [
    "tesla['Total Traded'].argmax()"
   ]
  },
  {
   "cell_type": "code",
   "execution_count": null,
   "id": "cdf8f942-44ff-4639-bab9-6cdff295f8dd",
   "metadata": {},
   "outputs": [],
   "source": [
    "tesla.iloc[[tesla['Total Traded'].argmax()]]"
   ]
  },
  {
   "cell_type": "markdown",
   "id": "6aa00651-68b8-492e-9b56-de3e47e6cac6",
   "metadata": {},
   "source": [
    "## Rolling average"
   ]
  },
  {
   "cell_type": "code",
   "execution_count": null,
   "id": "379be63f-7477-4869-919e-042475092cd1",
   "metadata": {},
   "outputs": [],
   "source": [
    "tesla['Open'].plot(figsize = (15,7))\n",
    "tesla['MA50'] = tesla['Open'].rolling(50).mean()\n",
    "tesla['MA50'].plot(label = 'MA50')\n",
    "tesla['MA50'] = tesla['Open'].rolling(200).mean()\n",
    "tesla['MA50'].plot(label = 'MA200')\n",
    "plt.legend()\n",
    "# rolling average shows the trend line Tesla's stock for the opening price"
   ]
  },
  {
   "cell_type": "code",
   "execution_count": null,
   "id": "7287e226-535f-400e-a3f8-85f3468d1f20",
   "metadata": {},
   "outputs": [],
   "source": [
    "ford['Open'].plot(figsize = (15,7))\n",
    "ford['MA50'] = ford['Open'].rolling(50).mean()\n",
    "ford['MA50'].plot(label = 'MA50')\n",
    "ford['MA50'] = ford['Open'].rolling(200).mean()\n",
    "ford['MA50'].plot(label = 'MA200')\n",
    "plt.legend()\n",
    "# rolling average shows the trend line Ford's stock for the opening price"
   ]
  },
  {
   "cell_type": "code",
   "execution_count": null,
   "id": "35a751db-98da-43b5-8766-87b64b94b1fa",
   "metadata": {},
   "outputs": [],
   "source": [
    "gm['Open'].plot(figsize = (15,7))\n",
    "gm['MA50'] = gm['Open'].rolling(50).mean()\n",
    "gm['MA50'].plot(label = 'MA50')\n",
    "gm['MA50'] = gm['Open'].rolling(200).mean()\n",
    "gm['MA50'].plot(label = 'MA200')\n",
    "plt.legend()\n",
    "# rolling average shows the trend line GM's stock for the opening price"
   ]
  },
  {
   "cell_type": "markdown",
   "id": "ed601544-1180-4a9e-8fe2-50f24c913f15",
   "metadata": {},
   "source": [
    "## Scatter Plots"
   ]
  },
  {
   "cell_type": "code",
   "execution_count": null,
   "id": "551b78cb-af31-4461-ab47-21d18bf4508a",
   "metadata": {},
   "outputs": [],
   "source": [
    "from pandas.plotting import scatter_matrix\n",
    "import pandas as pd"
   ]
  },
  {
   "cell_type": "code",
   "execution_count": null,
   "id": "bbc6cd33-f08d-45ff-85ce-0ed89297179a",
   "metadata": {},
   "outputs": [],
   "source": [
    "car_comp = pd.concat([tesla['Open'], gm['Open'],ford['Open']], axis=1)\n",
    "car_comp.columns = ['Tesla Open','GM Open',  'Ford Open']"
   ]
  },
  {
   "cell_type": "code",
   "execution_count": null,
   "id": "df90b20c-9f89-4b89-874b-ae212b911c6e",
   "metadata": {},
   "outputs": [],
   "source": [
    "scatter_matrix(car_comp,figsize = (8,8), hist_kwds = {'bins':50})"
   ]
  },
  {
   "cell_type": "markdown",
   "id": "59cb57e5-dffa-4ac4-bf3a-4b3edfa9349c",
   "metadata": {},
   "source": [
    "## Candlestick Graph"
   ]
  },
  {
   "cell_type": "code",
   "execution_count": null,
   "id": "da782e3b-b8ea-40d2-8220-05c6064c69ab",
   "metadata": {},
   "outputs": [],
   "source": [
    "from mplfinance.original_flavor import candlestick_ohlc\n",
    "# import from old candlestick graphs\n",
    "# candlestick graphs to show changes in trade prices and trends over time"
   ]
  },
  {
   "cell_type": "code",
   "execution_count": null,
   "id": "b9c2f045-cacd-43d6-a8c4-8fbbdaf2acca",
   "metadata": {},
   "outputs": [],
   "source": [
    "from matplotlib.dates import DateFormatter, date2num, WeekdayLocator, DayLocator, MONDAY\n",
    "ford_reset = ford.loc['2020-01': '2020-01'].reset_index()\n",
    "ford_reset['date_ax'] = ford_reset['Date'].apply(lambda date: date2num(date))\n",
    "ford_values = [tuple(vals) for vals in ford_reset[['date_ax', 'Open', 'High', 'Low', 'Close']].values] \n",
    "\n",
    "mondays = WeekdayLocator(MONDAY)\n",
    "alldays = DayLocator()\n",
    "weekFormatter = DateFormatter('%b %d')\n",
    "dayFormatter = DateFormatter('%d')\n",
    "\n",
    "\n",
    "fig, ax = plt.subplots()\n",
    "candlestick_ohlc(ax, ford_values, width=0.6, colorup='g')\n",
    "plt.show()"
   ]
  },
  {
   "cell_type": "code",
   "execution_count": null,
   "id": "37ff6c1d-628b-4fbb-8680-243c26f596d3",
   "metadata": {},
   "outputs": [],
   "source": [
    "from matplotlib.dates import DateFormatter, date2num, WeekdayLocator, DayLocator, MONDAY\n",
    "tesla_reset = tesla.loc['2020-01': '2020-01'].reset_index()\n",
    "tesla_reset['date_ax'] = tesla_reset['Date'].apply(lambda date: date2num(date))\n",
    "tesla_values = [tuple(vals) for vals in tesla_reset[['date_ax', 'Open', 'High', 'Low', 'Close']].values] \n",
    "\n",
    "mondays = WeekdayLocator(MONDAY)\n",
    "alldays = DayLocator()\n",
    "weekFormatter = DateFormatter('%b %d')\n",
    "dayFormatter = DateFormatter('%d')\n",
    "\n",
    "\n",
    "fig, ax = plt.subplots()\n",
    "candlestick_ohlc(ax, tesla_values, width=0.6, colorup='g')\n",
    "plt.show()"
   ]
  },
  {
   "cell_type": "code",
   "execution_count": null,
   "id": "3f03c34b-a388-4810-bc6c-6c822e384f06",
   "metadata": {},
   "outputs": [],
   "source": [
    "from matplotlib.dates import DateFormatter, date2num, WeekdayLocator, DayLocator, MONDAY\n",
    "gm_reset = gm.loc['2020-01': '2020-01'].reset_index()\n",
    "gm_reset['date_ax'] = gm_reset['Date'].apply(lambda date: date2num(date))\n",
    "gm_values = [tuple(vals) for vals in gm_reset[['date_ax', 'Open', 'High', 'Low', 'Close']].values] \n",
    "\n",
    "mondays = WeekdayLocator(MONDAY)\n",
    "alldays = DayLocator()\n",
    "weekFormatter = DateFormatter('%b %d')\n",
    "dayFormatter = DateFormatter('%d')\n",
    "\n",
    "\n",
    "fig, ax = plt.subplots()\n",
    "candlestick_ohlc(ax, gm_values, width=0.6, colorup='g')\n",
    "plt.show()"
   ]
  },
  {
   "cell_type": "markdown",
   "id": "3679b48f-b471-492c-9087-317c8d7dc064",
   "metadata": {},
   "source": [
    "## Market Volatility With Histograms"
   ]
  },
  {
   "cell_type": "code",
   "execution_count": null,
   "id": "bf9494ee-143c-4301-bccb-8961c2126d6f",
   "metadata": {},
   "outputs": [],
   "source": [
    "# Testing for market volatility to analyze\n",
    "# which company is the most stable in terms of investment "
   ]
  },
  {
   "cell_type": "code",
   "execution_count": null,
   "id": "3a47afef-ba97-4b1f-91bb-acef14507111",
   "metadata": {},
   "outputs": [],
   "source": [
    "tesla['returns'] = (tesla['Close']/tesla['Close'].shift(1))-1"
   ]
  },
  {
   "cell_type": "code",
   "execution_count": null,
   "id": "718c3114-6894-4db2-a88a-b34d1ef96ff4",
   "metadata": {},
   "outputs": [],
   "source": [
    "tesla.head()"
   ]
  },
  {
   "cell_type": "code",
   "execution_count": null,
   "id": "2bd61c3c-8f80-42f9-bb90-fd283d369efc",
   "metadata": {},
   "outputs": [],
   "source": [
    "tesla['returns'].hist(bins = 50)"
   ]
  },
  {
   "cell_type": "code",
   "execution_count": null,
   "id": "8a15bc2c-3dc4-4808-bfc1-d08d6458d7a5",
   "metadata": {},
   "outputs": [],
   "source": [
    "ford['returns'] = (ford['Close']/ford['Close'].shift(1))-1"
   ]
  },
  {
   "cell_type": "code",
   "execution_count": null,
   "id": "b2e5c093-4643-40a2-936b-ca5321f8f08a",
   "metadata": {},
   "outputs": [],
   "source": [
    "ford.head()"
   ]
  },
  {
   "cell_type": "code",
   "execution_count": null,
   "id": "727b60a3-9e42-41ca-ab0a-6746d82c9b41",
   "metadata": {},
   "outputs": [],
   "source": [
    "ford['returns'].hist(bins = 50)"
   ]
  },
  {
   "cell_type": "code",
   "execution_count": null,
   "id": "697cbf8b-1706-4192-bb6d-6c97145f0000",
   "metadata": {},
   "outputs": [],
   "source": [
    "gm['returns'] = (gm['Close']/gm['Close'].shift(1))-1"
   ]
  },
  {
   "cell_type": "code",
   "execution_count": null,
   "id": "d81724db-04f3-40c9-9f88-ae7dbce29dfe",
   "metadata": {},
   "outputs": [],
   "source": [
    "gm.head()"
   ]
  },
  {
   "cell_type": "code",
   "execution_count": null,
   "id": "ce618e13-701d-4ab6-b182-35fb52f615e4",
   "metadata": {},
   "outputs": [],
   "source": [
    "gm['returns'].hist(bins = 50)"
   ]
  },
  {
   "cell_type": "code",
   "execution_count": null,
   "id": "e3a03064-4262-4ffa-af89-8a4e33a64e34",
   "metadata": {},
   "outputs": [],
   "source": [
    "tesla['returns'].hist(bins = 100,label = 'Tesla',alpha = .5, figsize = (13,6))\n",
    "ford['returns'].hist(bins = 100,label = 'Ford',alpha = .5)\n",
    "gm['returns'].hist(bins = 100,label = 'GM',alpha = .5)\n",
    "plt.legend()"
   ]
  },
  {
   "cell_type": "code",
   "execution_count": null,
   "id": "83321ffe-a5e5-416f-9b29-99ca4c95a324",
   "metadata": {},
   "outputs": [],
   "source": [
    "# Tesla is more volatile as its standard deviation of its stock prices \n",
    "# is much more varied compared to GM and Ford"
   ]
  },
  {
   "cell_type": "code",
   "execution_count": null,
   "id": "1445d47e-b4a8-4c9f-a268-9f54ef6b6dd1",
   "metadata": {},
   "outputs": [],
   "source": [
    "tesla['returns'].plot(kind = 'kde', label = 'Tesla',figsize = (15,7))\n",
    "ford['returns'].plot(kind = 'kde', label = 'Ford')\n",
    "gm['returns'].plot(kind = 'kde', label = 'GM')\n",
    "plt.legend()"
   ]
  },
  {
   "cell_type": "markdown",
   "id": "16c9fca4-bc16-4f98-9ce2-bb21482cafb4",
   "metadata": {},
   "source": [
    "## Box Plots and Kernel Density"
   ]
  },
  {
   "cell_type": "code",
   "execution_count": null,
   "id": "09475c62-e719-41ab-99a1-aa76898a5e05",
   "metadata": {},
   "outputs": [],
   "source": [
    "# kernel density graph shows teslas peak is much lower here \n",
    "# than GM and Ford allowing us to see a more controlled probale density of\n",
    "# stock prices, normalized stat comapred to histogram "
   ]
  },
  {
   "cell_type": "code",
   "execution_count": null,
   "id": "c4a51bb1-00e4-404d-a466-f654922a76d1",
   "metadata": {},
   "outputs": [],
   "source": [
    "# Boxplot showing companies returns over time, furthering demonstration\n",
    "# of volatility"
   ]
  },
  {
   "cell_type": "code",
   "execution_count": null,
   "id": "b7c7ae2e-3477-45e1-afbf-b81220be4740",
   "metadata": {},
   "outputs": [],
   "source": [
    "box_df = pd.concat([tesla['returns'], gm['returns'],ford['returns']],axis =1)\n",
    "box_df.columns = ['Tesla Returns', 'GM Returns', 'Ford Returns']\n",
    "box_df.plot(kind = 'box', figsize = (15,7))"
   ]
  },
  {
   "cell_type": "code",
   "execution_count": null,
   "id": "a08fe7f9-df4b-4bfd-92cd-b18bf7596fb8",
   "metadata": {},
   "outputs": [],
   "source": [
    "scatter_matrix(box_df,figsize = (10,10),hist_kwds ={'bins':50},alpha = 0.25)"
   ]
  },
  {
   "cell_type": "markdown",
   "id": "51ab47c3-99d5-4348-9f11-ce4cc9a2897d",
   "metadata": {},
   "source": [
    "## Cumulative Return"
   ]
  },
  {
   "cell_type": "code",
   "execution_count": null,
   "id": "aeac8ea5-f0d2-46fd-bc31-bc49852e12a7",
   "metadata": {},
   "outputs": [],
   "source": [
    "# cumulative return(daily percent change)\n",
    "# How much can an investment of $1 return daily\n",
    "# not using stock that return dividends"
   ]
  },
  {
   "cell_type": "code",
   "execution_count": null,
   "id": "06a2a6f4-8712-4683-b57c-6d8e5b04eeb1",
   "metadata": {},
   "outputs": [],
   "source": [
    "tesla['returns'] = (tesla['Close']/ tesla['Close'].shift(1))-1"
   ]
  },
  {
   "cell_type": "code",
   "execution_count": null,
   "id": "69726383-4b76-4661-8a9b-637fff482c69",
   "metadata": {},
   "outputs": [],
   "source": [
    "tesla.head()"
   ]
  },
  {
   "cell_type": "code",
   "execution_count": null,
   "id": "7c2a2987-2edc-432e-97c4-3a57a7c61eab",
   "metadata": {},
   "outputs": [],
   "source": [
    "tesla['Cumulative Return'] =  (1+ tesla['returns']).cumprod()"
   ]
  },
  {
   "cell_type": "code",
   "execution_count": null,
   "id": "f72be131-8863-4775-bce8-ed46e047be10",
   "metadata": {},
   "outputs": [],
   "source": [
    "tesla.head()"
   ]
  },
  {
   "cell_type": "code",
   "execution_count": null,
   "id": "65b1a614-4dd8-46d8-8e29-e81084855f70",
   "metadata": {},
   "outputs": [],
   "source": [
    "ford['Cumulative Return'] =  (1+ ford['returns']).cumprod()"
   ]
  },
  {
   "cell_type": "code",
   "execution_count": null,
   "id": "f1d8612c-6791-40eb-b264-4d933df48598",
   "metadata": {},
   "outputs": [],
   "source": [
    "ford.head()"
   ]
  },
  {
   "cell_type": "code",
   "execution_count": null,
   "id": "268f70e8-e427-4832-8c13-84a1cb39e3a4",
   "metadata": {},
   "outputs": [],
   "source": [
    "gm['Cumulative Return'] =  (1+ gm['returns']).cumprod()"
   ]
  },
  {
   "cell_type": "code",
   "execution_count": null,
   "id": "f150b264-96d0-4faf-9cb7-1c759b755be5",
   "metadata": {},
   "outputs": [],
   "source": [
    "gm.head()"
   ]
  },
  {
   "cell_type": "code",
   "execution_count": null,
   "id": "c0f373d7-d839-4794-a835-50dc885d461c",
   "metadata": {},
   "outputs": [],
   "source": [
    "tesla['Cumulative Return'].plot(label = 'Tesla', figsize = (15,7))\n",
    "ford['Cumulative Return'].plot(label = 'Ford', figsize = (15,7))\n",
    "gm['Cumulative Return'].plot(label = 'GM', figsize = (15,7))\n",
    "plt.legend()\n"
   ]
  },
  {
   "cell_type": "markdown",
   "id": "c43a56f1-4c93-4bd3-b852-a68e6738e079",
   "metadata": {},
   "source": [
    "The cumulative returns over time for each company all companies have a cumulative value of 1 or close to a 1\n",
    "Represents how much they can return back\n",
    "Plot shows that an investment of $1 cumulative return is most profitbale  and returns the most to the investor is tesla"
   ]
  }
 ],
 "metadata": {
  "kernelspec": {
   "display_name": "Python 3 (ipykernel)",
   "language": "python",
   "name": "python3"
  },
  "language_info": {
   "codemirror_mode": {
    "name": "ipython",
    "version": 3
   },
   "file_extension": ".py",
   "mimetype": "text/x-python",
   "name": "python",
   "nbconvert_exporter": "python",
   "pygments_lexer": "ipython3",
   "version": "3.11.5"
  }
 },
 "nbformat": 4,
 "nbformat_minor": 5
}
